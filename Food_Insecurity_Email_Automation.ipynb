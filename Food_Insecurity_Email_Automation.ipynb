{
 "cells": [
  {
   "cell_type": "markdown",
   "metadata": {},
   "source": [
    "# 📬 Email Automation for Food Insecurity (Jupyter Notebook Version)\n",
    "\n",
    "This notebook sends personalized emails and checks for 'yes' responses from patients.\n",
    "\n",
    "- Sends emails using Gmail SMTP\n",
    "- Checks inbox for replies\n",
    "- Saves updated response to a new `.xlsx` file\n",
    "- Supports optional auto-scheduler (runs `check_responses()` every 10 minutes)"
   ]
  },
  {
   "cell_type": "code",
   "execution_count": null,
   "metadata": {},
   "outputs": [],
   "source": [
    "# ✅ Setup - Imports & Config\n",
    "import pandas as pd\n",
    "import smtplib\n",
    "import imaplib\n",
    "import email\n",
    "from email.message import EmailMessage\n",
    "from datetime import datetime\n",
    "import os\n",
    "import time\n",
    "from threading import Thread\n",
    "\n",
    "# ✉️ Email credentials\n",
    "EMAIL_ADDRESS = \"ug3460707@gmail.com\"\n",
    "EMAIL_PASSWORD = \"\"\n",
    "SMTP_SERVER = \"smtp.gmail.com\"\n",
    "SMTP_PORT = 587\n",
    "IMAP_SERVER = \"imap.gmail.com\"\n",
    "EXCEL_FILE = \"sample.xlsx\""
   ]
  },
  {
   "cell_type": "code",
   "execution_count": 48,
   "metadata": {},
   "outputs": [],
   "source": [
    "def load_patients():\n",
    "    try:\n",
    "        df = pd.read_excel(EXCEL_FILE)\n",
    "        print(\"[INFO] Excel file loaded successfully.\")\n",
    "        return df\n",
    "    except Exception as e:\n",
    "        print(f\"[ERROR] Failed to load Excel file: {e}\")\n",
    "        return pd.DataFrame()\n",
    "\n",
    "\n",
    "def save_patients(df, prefix=\"updated\"):\n",
    "    try:\n",
    "        base, ext = os.path.splitext(EXCEL_FILE)\n",
    "        timestamp = datetime.now().strftime(\"%Y%m%d_%H%M%S\")\n",
    "        new_file = f\"{prefix}_{base}{ext}\"\n",
    "        df.to_excel(new_file, index=False)\n",
    "        print(f\"[INFO] Data saved to {os.path.abspath(new_file)}\")\n",
    "    except Exception as e:\n",
    "        print(f\"[ERROR] Failed to save Excel file: {e}\")\n"
   ]
  },
  {
   "cell_type": "code",
   "execution_count": 55,
   "metadata": {},
   "outputs": [],
   "source": [
    "def send_emails():\n",
    "    df = load_patients()\n",
    "    if df.empty:\n",
    "        print(\"[ERROR] No data found in Excel.\")\n",
    "        return\n",
    "\n",
    "    sent_count = 0\n",
    "    fail_count = 0\n",
    "\n",
    "    try:\n",
    "        print(\"[INFO] Connecting to SMTP server...\")\n",
    "        with smtplib.SMTP(SMTP_SERVER, SMTP_PORT, timeout=10) as smtp:\n",
    "            smtp.starttls()\n",
    "            smtp.login(EMAIL_ADDRESS, EMAIL_PASSWORD)\n",
    "            print(\"[✅] Logged in to SMTP\")\n",
    "\n",
    "            for _, row in df.iterrows():\n",
    "                name = row.get(\"Name\", \"there\")\n",
    "                to_email = str(row.get(\"Email\", \"\")).strip()\n",
    "\n",
    "                if not to_email or \"@\" not in to_email:\n",
    "                    print(f\"[⚠️] Skipping invalid or missing email for {name}: '{to_email}'\")\n",
    "                    fail_count += 1\n",
    "                    continue\n",
    "\n",
    "                msg = EmailMessage()\n",
    "                msg[\"Subject\"] = \"Important: Food Support Inquiry\"\n",
    "                msg[\"From\"] = EMAIL_ADDRESS\n",
    "                msg[\"To\"] = to_email\n",
    "                msg.set_content(f\"\"\"Hi {name},\n",
    "\n",
    "We're reaching out to support your food needs. Please reply \"yes\" to this message if any of the following statements apply to you:\n",
    "\n",
    "• In the last 12 months, have you worried whether your food would run out before you had money to buy more?\n",
    "• Did the food you bought just not last, and you didn't have money to get more?\n",
    "\n",
    "Your answers will help us connect you with local food support resources.\n",
    "\n",
    "Best regards,\n",
    "Baylor Scott Nutrition Team\n",
    "\"\"\")\n",
    "\n",
    "                try:\n",
    "                    smtp.send_message(msg)\n",
    "                    print(f\"[📤] Sent to {name} <{to_email}>\")\n",
    "                    sent_count += 1\n",
    "                    time.sleep(1)  # prevent spam-like sending\n",
    "                except Exception as e:\n",
    "                    print(f\"[❌] Failed to send to {to_email}: {e}\")\n",
    "                    fail_count += 1\n",
    "\n",
    "        print(f\"\\n[📊] Summary: {sent_count} sent, {fail_count} failed.\")\n",
    "        print(\"[✅] Email sending completed.\")\n",
    "    except Exception as e:\n",
    "        print(f\"[❌] SMTP connection error: {e}\")\n"
   ]
  },
  {
   "cell_type": "code",
   "execution_count": 56,
   "metadata": {},
   "outputs": [
    {
     "name": "stdout",
     "output_type": "stream",
     "text": [
      "[INFO] Excel file loaded successfully.\n",
      "[INFO] Connecting to SMTP server...\n",
      "[✅] Logged in to SMTP\n",
      "[📤] Sent to Test Chan <teilioteaser@gmail.com>\n",
      "\n",
      "[📊] Summary: 1 sent, 0 failed.\n",
      "[✅] Email sending completed.\n"
     ]
    }
   ],
   "source": [
    "send_emails()"
   ]
  },
  {
   "cell_type": "code",
   "execution_count": 59,
   "metadata": {},
   "outputs": [],
   "source": [
    "def check_responses():\n",
    "    df = load_patients()\n",
    "    if df.empty:\n",
    "        print(\"[ERROR] No patient data loaded.\")\n",
    "        return\n",
    "\n",
    "    df[\"Food Insecurity\"] = df.get(\"Food Insecurity\", \"\").astype(str)\n",
    "\n",
    "    try:\n",
    "        print(\"[INFO] Connecting to IMAP...\")\n",
    "        mail = imaplib.IMAP4_SSL(IMAP_SERVER)\n",
    "        mail.login(EMAIL_ADDRESS, EMAIL_PASSWORD)\n",
    "        mail.select(\"inbox\")\n",
    "\n",
    "        print(\"[INFO] Searching for unseen replies...\")\n",
    "        status, messages = mail.search(None, '(UNSEEN SUBJECT \"Important: Food Support Inquiry\")')\n",
    "        if status != \"OK\" or not messages[0]:\n",
    "            print(\"[INFO] No new replies found.\")\n",
    "            mail.logout()\n",
    "            return\n",
    "\n",
    "        print(f\"[INFO] Found {len(messages[0].split())} new replies.\")\n",
    "        for num in messages[0].split():\n",
    "            status, data = mail.fetch(num, \"(RFC822)\")\n",
    "            if status != \"OK\":\n",
    "                print(f\"[ERROR] Failed to fetch message {num}\")\n",
    "                continue\n",
    "\n",
    "            raw_email = data[0][1]\n",
    "            msg = email.message_from_bytes(raw_email)\n",
    "            sender = email.utils.parseaddr(msg[\"From\"])[1]\n",
    "            body = \"\"\n",
    "\n",
    "            if msg.is_multipart():\n",
    "                for part in msg.walk():\n",
    "                    if part.get_content_type() == \"text/plain\" and \"attachment\" not in str(part.get(\"Content-Disposition\")):\n",
    "                        body = part.get_payload(decode=True).decode(errors=\"ignore\")\n",
    "                        break\n",
    "            else:\n",
    "                body = msg.get_payload(decode=True).decode(errors=\"ignore\")\n",
    "\n",
    "            # Extract only the top reply line before any quoted text\n",
    "            clean_response = body.split(\"\\n\")[0].strip().lower()\n",
    "            print(f\"[REPLY] {sender} ➜ \\\"{clean_response}\\\"\")\n",
    "\n",
    "            # Determine and log result\n",
    "            positive_keywords = [\"yes\", \"ok\", \"yeah\"]\n",
    "            if any(keyword in clean_response for keyword in positive_keywords):\n",
    "                df.loc[df[\"Email\"].str.lower() == sender.lower(), \"Food Insecurity\"] = \"Yes\"\n",
    "                print(f\"[✅] Marked YES for {sender}\")\n",
    "            else:\n",
    "                df.loc[df[\"Email\"].str.lower() == sender.lower(), \"Food Insecurity\"] = \"No\"\n",
    "                print(f\"[INFO] Marked NO for {sender}\")\n",
    "\n",
    "\n",
    "        save_patients(df, prefix=\"updated\")\n",
    "        mail.logout()\n",
    "        print(\"[✅] Response check complete.\")\n",
    "    except Exception as e:\n",
    "        print(f\"[❌ IMAP ERROR] {e}\")\n"
   ]
  },
  {
   "cell_type": "code",
   "execution_count": 62,
   "metadata": {},
   "outputs": [
    {
     "name": "stdout",
     "output_type": "stream",
     "text": [
      "[INFO] Excel file loaded successfully.\n",
      "[INFO] Connecting to IMAP...\n",
      "[INFO] Searching for unseen replies...\n",
      "[INFO] Found 1 new replies.\n",
      "[REPLY] teilioteaser@gmail.com ➜ \"ok no problem\"\n",
      "[✅] Marked YES for teilioteaser@gmail.com\n",
      "[INFO] Data saved to /home/youj/Projects/TaskSoft/twilio_test/with_email/updated_sample.xlsx\n",
      "[✅] Response check complete.\n"
     ]
    }
   ],
   "source": [
    "check_responses()"
   ]
  },
  {
   "cell_type": "code",
   "execution_count": 38,
   "metadata": {},
   "outputs": [],
   "source": [
    "# 🔁 Optional Scheduler (Auto-check every 10 minutes)\n",
    "def auto_check_scheduler(interval_minutes=10):\n",
    "    print(f\"[SCHEDULER] Starting auto-check every {interval_minutes} minutes...\")\n",
    "    while True:\n",
    "        try:\n",
    "            check_responses()\n",
    "        except Exception as e:\n",
    "            print(f\"[SCHEDULER ERROR] {e}\")\n",
    "        time.sleep(interval_minutes * 60)"
   ]
  }
 ],
 "metadata": {
  "kernelspec": {
   "display_name": "Python 3 (ipykernel)",
   "language": "python",
   "name": "python3"
  },
  "language_info": {
   "codemirror_mode": {
    "name": "ipython",
    "version": 3
   },
   "file_extension": ".py",
   "mimetype": "text/x-python",
   "name": "python",
   "nbconvert_exporter": "python",
   "pygments_lexer": "ipython3",
   "version": "3.12.3"
  }
 },
 "nbformat": 4,
 "nbformat_minor": 4
}
