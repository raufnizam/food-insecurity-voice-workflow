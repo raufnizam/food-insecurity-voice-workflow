{
 "cells": [
  {
   "cell_type": "markdown",
   "metadata": {},
   "source": [
    "# 📞 Twilio Voice Workflow - Food Insecurity Patient Call\n",
    "This Jupyter Notebook uses Twilio's Voice API to:\n",
    "- Call patients from a spreadsheet\n",
    "- Ask two food insecurity questions\n",
    "- Based on keypad response (DTMF), branch logic\n",
    "- Trigger follow-up steps if either answer is 'Yes'"
   ]
  },
  {
   "cell_type": "code",
   "execution_count": null,
   "metadata": {
    "scrolled": true
   },
   "outputs": [],
   "source": [
    "!pip install twilio pandas openpyxl"
   ]
  },
  {
   "cell_type": "code",
   "execution_count": null,
   "metadata": {},
   "outputs": [],
   "source": [
    "from twilio.rest import Client\n",
    "import pandas as pd\n",
    "import os"
   ]
  },
  {
   "cell_type": "code",
   "execution_count": null,
   "metadata": {},
   "outputs": [],
   "source": [
    "TWILIO_ACCOUNT_SID = ''\n",
    "TWILIO_AUTH_TOKEN = ''\n",
    "TWILIO_PHONE_NUMBER = ''  \n",
    "\n",
    "client = Client(TWILIO_ACCOUNT_SID, TWILIO_AUTH_TOKEN)"
   ]
  },
  {
   "cell_type": "code",
   "execution_count": null,
   "metadata": {},
   "outputs": [],
   "source": [
    "df = pd.read_excel('sample.xlsx')\n",
    "df.head()"
   ]
  },
  {
   "cell_type": "code",
   "execution_count": null,
   "metadata": {},
   "outputs": [],
   "source": [
    "voice_url = ' '  \n",
    "\n",
    "for index, row in df.iterrows():\n",
    "    to_number = str(row['Phone']).strip()  \n",
    "    try:\n",
    "        call = client.calls.create(\n",
    "            url=voice_url,\n",
    "            to=to_number,\n",
    "            from_=TWILIO_PHONE_NUMBER\n",
    "        )\n",
    "        print(f\"📞 Call initiated to {to_number}: {call.sid}\")\n",
    "    except Exception as e:\n",
    "        print(f\"❌ Failed to call {to_number}: {e}\")"
   ]
  },
  {
   "cell_type": "code",
   "execution_count": null,
   "metadata": {},
   "outputs": [],
   "source": []
  },
  {
   "cell_type": "code",
   "execution_count": null,
   "metadata": {},
   "outputs": [],
   "source": []
  }
 ],
 "metadata": {
  "kernelspec": {
   "display_name": "Python 3 (ipykernel)",
   "language": "python",
   "name": "python3"
  },
  "language_info": {
   "codemirror_mode": {
    "name": "ipython",
    "version": 3
   },
   "file_extension": ".py",
   "mimetype": "text/x-python",
   "name": "python",
   "nbconvert_exporter": "python",
   "pygments_lexer": "ipython3",
   "version": "3.12.3"
  }
 },
 "nbformat": 4,
 "nbformat_minor": 4
}
